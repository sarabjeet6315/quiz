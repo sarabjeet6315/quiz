{
 "cells": [
  {
   "cell_type": "code",
   "execution_count": 5,
   "metadata": {
    "collapsed": false
   },
   "outputs": [
    {
     "data": {
      "text/html": [
       "<div>\n",
       "<table border=\"1\" class=\"dataframe\">\n",
       "  <thead>\n",
       "    <tr style=\"text-align: right;\">\n",
       "      <th></th>\n",
       "      <th>id</th>\n",
       "      <th>date</th>\n",
       "      <th>price</th>\n",
       "      <th>bedrooms</th>\n",
       "      <th>bathrooms</th>\n",
       "      <th>sqft_living</th>\n",
       "      <th>sqft_lot</th>\n",
       "      <th>floors</th>\n",
       "      <th>waterfront</th>\n",
       "      <th>view</th>\n",
       "      <th>...</th>\n",
       "      <th>grade</th>\n",
       "      <th>sqft_above</th>\n",
       "      <th>sqft_basement</th>\n",
       "      <th>yr_built</th>\n",
       "      <th>yr_renovated</th>\n",
       "      <th>zipcode</th>\n",
       "      <th>lat</th>\n",
       "      <th>long</th>\n",
       "      <th>sqft_living15</th>\n",
       "      <th>sqft_lot15</th>\n",
       "    </tr>\n",
       "  </thead>\n",
       "  <tbody>\n",
       "    <tr>\n",
       "      <th>0</th>\n",
       "      <td>7129300520</td>\n",
       "      <td>20141013T000000</td>\n",
       "      <td>221900.0</td>\n",
       "      <td>3</td>\n",
       "      <td>1.00</td>\n",
       "      <td>1180</td>\n",
       "      <td>5650</td>\n",
       "      <td>1.0</td>\n",
       "      <td>0</td>\n",
       "      <td>0</td>\n",
       "      <td>...</td>\n",
       "      <td>7</td>\n",
       "      <td>1180</td>\n",
       "      <td>0</td>\n",
       "      <td>1955</td>\n",
       "      <td>0</td>\n",
       "      <td>98178</td>\n",
       "      <td>47.5112</td>\n",
       "      <td>-122.257</td>\n",
       "      <td>1340</td>\n",
       "      <td>5650</td>\n",
       "    </tr>\n",
       "    <tr>\n",
       "      <th>1</th>\n",
       "      <td>6414100192</td>\n",
       "      <td>20141209T000000</td>\n",
       "      <td>538000.0</td>\n",
       "      <td>3</td>\n",
       "      <td>2.25</td>\n",
       "      <td>2570</td>\n",
       "      <td>7242</td>\n",
       "      <td>2.0</td>\n",
       "      <td>0</td>\n",
       "      <td>0</td>\n",
       "      <td>...</td>\n",
       "      <td>7</td>\n",
       "      <td>2170</td>\n",
       "      <td>400</td>\n",
       "      <td>1951</td>\n",
       "      <td>1991</td>\n",
       "      <td>98125</td>\n",
       "      <td>47.7210</td>\n",
       "      <td>-122.319</td>\n",
       "      <td>1690</td>\n",
       "      <td>7639</td>\n",
       "    </tr>\n",
       "    <tr>\n",
       "      <th>2</th>\n",
       "      <td>5631500400</td>\n",
       "      <td>20150225T000000</td>\n",
       "      <td>180000.0</td>\n",
       "      <td>2</td>\n",
       "      <td>1.00</td>\n",
       "      <td>770</td>\n",
       "      <td>10000</td>\n",
       "      <td>1.0</td>\n",
       "      <td>0</td>\n",
       "      <td>0</td>\n",
       "      <td>...</td>\n",
       "      <td>6</td>\n",
       "      <td>770</td>\n",
       "      <td>0</td>\n",
       "      <td>1933</td>\n",
       "      <td>0</td>\n",
       "      <td>98028</td>\n",
       "      <td>47.7379</td>\n",
       "      <td>-122.233</td>\n",
       "      <td>2720</td>\n",
       "      <td>8062</td>\n",
       "    </tr>\n",
       "    <tr>\n",
       "      <th>3</th>\n",
       "      <td>2487200875</td>\n",
       "      <td>20141209T000000</td>\n",
       "      <td>604000.0</td>\n",
       "      <td>4</td>\n",
       "      <td>3.00</td>\n",
       "      <td>1960</td>\n",
       "      <td>5000</td>\n",
       "      <td>1.0</td>\n",
       "      <td>0</td>\n",
       "      <td>0</td>\n",
       "      <td>...</td>\n",
       "      <td>7</td>\n",
       "      <td>1050</td>\n",
       "      <td>910</td>\n",
       "      <td>1965</td>\n",
       "      <td>0</td>\n",
       "      <td>98136</td>\n",
       "      <td>47.5208</td>\n",
       "      <td>-122.393</td>\n",
       "      <td>1360</td>\n",
       "      <td>5000</td>\n",
       "    </tr>\n",
       "    <tr>\n",
       "      <th>4</th>\n",
       "      <td>1954400510</td>\n",
       "      <td>20150218T000000</td>\n",
       "      <td>510000.0</td>\n",
       "      <td>3</td>\n",
       "      <td>2.00</td>\n",
       "      <td>1680</td>\n",
       "      <td>8080</td>\n",
       "      <td>1.0</td>\n",
       "      <td>0</td>\n",
       "      <td>0</td>\n",
       "      <td>...</td>\n",
       "      <td>8</td>\n",
       "      <td>1680</td>\n",
       "      <td>0</td>\n",
       "      <td>1987</td>\n",
       "      <td>0</td>\n",
       "      <td>98074</td>\n",
       "      <td>47.6168</td>\n",
       "      <td>-122.045</td>\n",
       "      <td>1800</td>\n",
       "      <td>7503</td>\n",
       "    </tr>\n",
       "  </tbody>\n",
       "</table>\n",
       "<p>5 rows × 21 columns</p>\n",
       "</div>"
      ],
      "text/plain": [
       "           id             date     price  bedrooms  bathrooms  sqft_living  \\\n",
       "0  7129300520  20141013T000000  221900.0         3       1.00         1180   \n",
       "1  6414100192  20141209T000000  538000.0         3       2.25         2570   \n",
       "2  5631500400  20150225T000000  180000.0         2       1.00          770   \n",
       "3  2487200875  20141209T000000  604000.0         4       3.00         1960   \n",
       "4  1954400510  20150218T000000  510000.0         3       2.00         1680   \n",
       "\n",
       "   sqft_lot  floors  waterfront  view     ...      grade  sqft_above  \\\n",
       "0      5650     1.0           0     0     ...          7        1180   \n",
       "1      7242     2.0           0     0     ...          7        2170   \n",
       "2     10000     1.0           0     0     ...          6         770   \n",
       "3      5000     1.0           0     0     ...          7        1050   \n",
       "4      8080     1.0           0     0     ...          8        1680   \n",
       "\n",
       "   sqft_basement  yr_built  yr_renovated  zipcode      lat     long  \\\n",
       "0              0      1955             0    98178  47.5112 -122.257   \n",
       "1            400      1951          1991    98125  47.7210 -122.319   \n",
       "2              0      1933             0    98028  47.7379 -122.233   \n",
       "3            910      1965             0    98136  47.5208 -122.393   \n",
       "4              0      1987             0    98074  47.6168 -122.045   \n",
       "\n",
       "   sqft_living15  sqft_lot15  \n",
       "0           1340        5650  \n",
       "1           1690        7639  \n",
       "2           2720        8062  \n",
       "3           1360        5000  \n",
       "4           1800        7503  \n",
       "\n",
       "[5 rows x 21 columns]"
      ]
     },
     "execution_count": 5,
     "metadata": {},
     "output_type": "execute_result"
    }
   ],
   "source": [
    "import pandas as pd\n",
    "df=pd.read_csv(\"housing_price_data_set.csv\")\n",
    "df.head()"
   ]
  },
  {
   "cell_type": "code",
   "execution_count": 6,
   "metadata": {
    "collapsed": false
   },
   "outputs": [
    {
     "name": "stdout",
     "output_type": "stream",
     "text": [
      "[[  3.00000000e+00   1.00000000e+00   1.18000000e+03 ...,  -1.22257000e+02\n",
      "    1.34000000e+03   5.65000000e+03]\n",
      " [  3.00000000e+00   2.25000000e+00   2.57000000e+03 ...,  -1.22319000e+02\n",
      "    1.69000000e+03   7.63900000e+03]\n",
      " [  2.00000000e+00   1.00000000e+00   7.70000000e+02 ...,  -1.22233000e+02\n",
      "    2.72000000e+03   8.06200000e+03]\n",
      " ..., \n",
      " [  4.00000000e+00   2.25000000e+00   1.78000000e+03 ...,  -1.22149000e+02\n",
      "    1.67000000e+03   2.42600000e+03]\n",
      " [  4.00000000e+00   2.50000000e+00   2.11000000e+03 ...,  -1.22193000e+02\n",
      "    2.72000000e+03   6.31100000e+03]\n",
      " [  4.00000000e+00   3.50000000e+00   2.77000000e+03 ...,  -1.22081000e+02\n",
      "    3.41000000e+03   7.40000000e+01]]\n",
      "[[ 221900.]\n",
      " [ 538000.]\n",
      " [ 180000.]\n",
      " ..., \n",
      " [ 435000.]\n",
      " [ 320000.]\n",
      " [ 820000.]]\n"
     ]
    }
   ],
   "source": [
    "X=df.iloc[:, 3:].values\n",
    "Y=df.iloc[:, 2:3].values\n",
    "print X\n",
    "print Y"
   ]
  },
  {
   "cell_type": "code",
   "execution_count": 21,
   "metadata": {
    "collapsed": false
   },
   "outputs": [
    {
     "name": "stdout",
     "output_type": "stream",
     "text": [
      "[[  3.00000000e+00   1.75000000e+00   2.09000000e+03 ...,  -1.22194000e+02\n",
      "    1.51000000e+03   7.41600000e+03]\n",
      " [  3.00000000e+00   1.75000000e+00   4.00000000e+03 ...,  -1.22203000e+02\n",
      "    2.53000000e+03   8.65000000e+03]\n",
      " [  3.00000000e+00   1.00000000e+00   1.76000000e+03 ...,  -1.22348000e+02\n",
      "    1.32000000e+03   1.26600000e+03]\n",
      " ..., \n",
      " [  1.00000000e+00   2.00000000e+00   3.00000000e+03 ...,  -1.21945000e+02\n",
      "    2.33000000e+03   2.13008000e+05]\n",
      " [  4.00000000e+00   2.50000000e+00   2.57000000e+03 ...,  -1.22000000e+02\n",
      "    2.26000000e+03   5.39200000e+03]\n",
      " [  4.00000000e+00   2.25000000e+00   2.38000000e+03 ...,  -1.22120000e+02\n",
      "    2.23000000e+03   8.92500000e+03]] [[  3.00000000e+00   1.75000000e+00   1.59000000e+03 ...,  -1.22194000e+02\n",
      "    1.97000000e+03   8.97000000e+03]\n",
      " [  4.00000000e+00   2.50000000e+00   2.13000000e+03 ...,  -1.22160000e+02\n",
      "    1.80000000e+03   9.13100000e+03]\n",
      " [  4.00000000e+00   2.50000000e+00   2.68000000e+03 ...,  -1.22125000e+02\n",
      "    2.92000000e+03   4.50000000e+03]\n",
      " ..., \n",
      " [  5.00000000e+00   2.75000000e+00   1.51000000e+03 ...,  -1.22270000e+02\n",
      "    2.19000000e+03   5.70000000e+03]\n",
      " [  4.00000000e+00   2.50000000e+00   2.29000000e+03 ...,  -1.22030000e+02\n",
      "    2.34000000e+03   9.77400000e+03]\n",
      " [  3.00000000e+00   1.75000000e+00   1.30000000e+03 ...,  -1.22103000e+02\n",
      "    2.07000000e+03   9.77500000e+03]] [[ 424950.]\n",
      " [ 628000.]\n",
      " [ 352950.]\n",
      " ..., \n",
      " [ 415000.]\n",
      " [ 561000.]\n",
      " [ 699900.]] [[  750000.]\n",
      " [  395000.]\n",
      " [  807100.]\n",
      " ..., \n",
      " [ 1000000.]\n",
      " [  590000.]\n",
      " [  455000.]]\n"
     ]
    }
   ],
   "source": [
    "from sklearn.cross_validation import train_test_split\n",
    "X_train, X_test, Y_train, Y_test=train_test_split(X, Y, test_size=0.33, random_state=0)\n",
    "print X_train, X_test, Y_train, Y_test"
   ]
  },
  {
   "cell_type": "code",
   "execution_count": 26,
   "metadata": {
    "collapsed": false
   },
   "outputs": [
    {
     "name": "stdout",
     "output_type": "stream",
     "text": [
      "[[ 574382.09804677]\n",
      " [ 445370.30237549]\n",
      " [ 710572.10255902]\n",
      " ..., \n",
      " [ 493205.93946574]\n",
      " [ 633806.56445316]\n",
      " [ 368486.71762398]]\n"
     ]
    }
   ],
   "source": [
    "from sklearn.linear_model import LinearRegression\n",
    "regressor=LinearRegression()\n",
    "regressor.fit(X_train, Y_train)\n",
    "Y_pred = regressor.predict(X_test)\n",
    "print Y_pred"
   ]
  },
  {
   "cell_type": "code",
   "execution_count": 27,
   "metadata": {
    "collapsed": false
   },
   "outputs": [
    {
     "name": "stdout",
     "output_type": "stream",
     "text": [
      "69.47 percent\n"
     ]
    }
   ],
   "source": [
    "from sklearn.metrics import r2_score\n",
    "print round (r2_score(Y_test, Y_pred)*100, 2), 'percent'"
   ]
  },
  {
   "cell_type": "code",
   "execution_count": null,
   "metadata": {
    "collapsed": true
   },
   "outputs": [],
   "source": []
  }
 ],
 "metadata": {
  "kernelspec": {
   "display_name": "Python 2",
   "language": "python",
   "name": "python2"
  },
  "language_info": {
   "codemirror_mode": {
    "name": "ipython",
    "version": 2
   },
   "file_extension": ".py",
   "mimetype": "text/x-python",
   "name": "python",
   "nbconvert_exporter": "python",
   "pygments_lexer": "ipython2",
   "version": "2.7.13"
  }
 },
 "nbformat": 4,
 "nbformat_minor": 0
}
