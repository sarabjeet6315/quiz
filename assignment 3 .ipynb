{
 "cells": [
  {
   "cell_type": "code",
   "execution_count": 1,
   "metadata": {},
   "outputs": [
    {
     "ename": "IndentationError",
     "evalue": "unexpected indent (<ipython-input-1-a79ca94927af>, line 2)",
     "output_type": "error",
     "traceback": [
      "\u001b[1;36m  File \u001b[1;32m\"<ipython-input-1-a79ca94927af>\"\u001b[1;36m, line \u001b[1;32m2\u001b[0m\n\u001b[1;33m    =2.7\u001b[0m\n\u001b[1;37m    ^\u001b[0m\n\u001b[1;31mIndentationError\u001b[0m\u001b[1;31m:\u001b[0m unexpected indent\n"
     ]
    }
   ],
   "source": [
    "Mean=(2.6+1.9+3.7+2.5+3.1+2.8)/6\n",
    "    =2.7\n",
    "Xi   (Xi-U)  (Xi-U)^2\n",
    "2.6   -0.16     0.0256\n",
    "1.9    0.8      0.64\n",
    "3.7    1         1\n",
    "2.5   -0.2      0.04\n",
    "3.1    0.4      0.16\n",
    "2.8    0.1      0.01\n",
    " sum of square=1.8756"
   ]
  },
  {
   "cell_type": "code",
   "execution_count": 2,
   "metadata": {},
   "outputs": [
    {
     "ename": "SyntaxError",
     "evalue": "invalid syntax (<ipython-input-2-31247c53413b>, line 1)",
     "output_type": "error",
     "traceback": [
      "\u001b[1;36m  File \u001b[1;32m\"<ipython-input-2-31247c53413b>\"\u001b[1;36m, line \u001b[1;32m1\u001b[0m\n\u001b[1;33m    standard deviation=1.79\u001b[0m\n\u001b[1;37m                     ^\u001b[0m\n\u001b[1;31mSyntaxError\u001b[0m\u001b[1;31m:\u001b[0m invalid syntax\n"
     ]
    }
   ],
   "source": [
    "standard deviation=1.79\n",
    "variance =3.2041\n",
    "sum of square =30*3.2041=96.123"
   ]
  },
  {
   "cell_type": "code",
   "execution_count": 3,
   "metadata": {},
   "outputs": [
    {
     "ename": "IndentationError",
     "evalue": "unexpected indent (<ipython-input-3-cb26107bfd62>, line 2)",
     "output_type": "error",
     "traceback": [
      "\u001b[1;36m  File \u001b[1;32m\"<ipython-input-3-cb26107bfd62>\"\u001b[1;36m, line \u001b[1;32m2\u001b[0m\n\u001b[1;33m    =17.83\u001b[0m\n\u001b[1;37m    ^\u001b[0m\n\u001b[1;31mIndentationError\u001b[0m\u001b[1;31m:\u001b[0m unexpected indent\n"
     ]
    }
   ],
   "source": [
    "mean=(16+22+11+14+13+31)/6\n",
    "    =17.83\n",
    "new data=(31,22,16,14,13,11)\n",
    "median=(6+1)/2\n",
    "median is 11\n",
    "Xi   (Xi-U)  (Xi-U)^2\n",
    "16   -1.83     3.34\n",
    "22    4.17     17.38\n",
    "11   -6.83     46.64\n",
    "14   -3.83     14.66\n",
    "13   -4.83     23.32\n",
    "31   13.17    173.44\n",
    " \n",
    "variance=(3.34+17.38+46.64+14.66+23.32+173.44)/6\n",
    "        =46.46\n",
    "    \n",
    "Standard Deviation= 6.81"
   ]
  },
  {
   "cell_type": "code",
   "execution_count": null,
   "metadata": {},
   "outputs": [],
   "source": []
  }
 ],
 "metadata": {
  "kernelspec": {
   "display_name": "Python 2",
   "language": "python",
   "name": "python2"
  },
  "language_info": {
   "codemirror_mode": {
    "name": "ipython",
    "version": 2
   },
   "file_extension": ".py",
   "mimetype": "text/x-python",
   "name": "python",
   "nbconvert_exporter": "python",
   "pygments_lexer": "ipython2",
   "version": "2.7.13"
  }
 },
 "nbformat": 4,
 "nbformat_minor": 2
}
